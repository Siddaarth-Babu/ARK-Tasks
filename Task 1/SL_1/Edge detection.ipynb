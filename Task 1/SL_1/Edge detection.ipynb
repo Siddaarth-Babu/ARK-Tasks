{
 "cells": [
  {
   "cell_type": "code",
   "execution_count": 19,
   "id": "4407fc69-73c9-4844-ab6b-f5224974414e",
   "metadata": {},
   "outputs": [],
   "source": [
    "import cv2\n",
    "import numpy as np\n",
    "\n",
    "image = cv2.imread('table.png')\n",
    "image = cv2.cvtColor(image, cv2.COLOR_BGR2GRAY)\n",
    "resized_img = cv2.resize(image,(int(image.shape[1]/2), int(image.shape[0]/2)))"
   ]
  },
  {
   "cell_type": "code",
   "execution_count": 108,
   "id": "7b7778f9-01df-459f-803c-c2c4dc0d9d14",
   "metadata": {},
   "outputs": [],
   "source": [
    "gradient_sobelx = cv2.Sobel(resized_img, -1, 1, 0)\n",
    "gradient_sobely = cv2.Sobel(resized_img, -1, 0, 1)\n",
    "gradient_sobelxy = cv2.addWeighted(gradient_sobelx,0.5,gradient_sobely,2.3,0)\n",
    "\n",
    "canny_output = cv2.Canny(resized_img, 80,100,0)"
   ]
  },
  {
   "cell_type": "code",
   "execution_count": 112,
   "id": "aa9c63ee-bd18-44f4-b09d-27ffa7eefd61",
   "metadata": {
    "scrolled": true
   },
   "outputs": [],
   "source": [
    "\n",
    "cv2.imshow('Sobel X+y', gradient_sobelxy)\n",
    "\n",
    "# cv2.imshow('Canny', canny_output)\n",
    "cv2.waitKey(0)\n",
    "cv2.destroyAllWindows()\n"
   ]
  },
  {
   "cell_type": "code",
   "execution_count": 110,
   "id": "35e11ba7-21df-4d41-ab71-cd0be3e9fc9f",
   "metadata": {},
   "outputs": [
    {
     "data": {
      "text/plain": [
       "True"
      ]
     },
     "execution_count": 110,
     "metadata": {},
     "output_type": "execute_result"
    }
   ],
   "source": [
    "cv2.imwrite('edges.png', gradient_sobelxy)"
   ]
  },
  {
   "cell_type": "code",
   "execution_count": 111,
   "id": "f3ae5d0f-56d1-438a-af36-5c371f2cfb2b",
   "metadata": {},
   "outputs": [
    {
     "data": {
      "text/plain": [
       "True"
      ]
     },
     "execution_count": 111,
     "metadata": {},
     "output_type": "execute_result"
    }
   ],
   "source": [
    "cv2.imwrite('edges1.png', canny_output)"
   ]
  },
  {
   "cell_type": "code",
   "execution_count": null,
   "id": "c0f62a58-ac06-4d76-90ea-30ad96725349",
   "metadata": {},
   "outputs": [],
   "source": []
  }
 ],
 "metadata": {
  "kernelspec": {
   "display_name": "Python 3 (ipykernel)",
   "language": "python",
   "name": "python3"
  },
  "language_info": {
   "codemirror_mode": {
    "name": "ipython",
    "version": 3
   },
   "file_extension": ".py",
   "mimetype": "text/x-python",
   "name": "python",
   "nbconvert_exporter": "python",
   "pygments_lexer": "ipython3",
   "version": "3.11.7"
  }
 },
 "nbformat": 4,
 "nbformat_minor": 5
}
