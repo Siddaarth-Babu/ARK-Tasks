{
 "cells": [
  {
   "cell_type": "code",
   "execution_count": 49,
   "id": "743ab589-10b6-4f0c-bb4b-6965545afb1b",
   "metadata": {},
   "outputs": [
    {
     "data": {
      "text/plain": [
       "True"
      ]
     },
     "execution_count": 49,
     "metadata": {},
     "output_type": "execute_result"
    }
   ],
   "source": [
    "import cv2\n",
    "import numpy as np\n",
    "import math\n",
    " \n",
    "image1 = cv2.imread('edges.png')\n",
    "gray=cv2.cvtColor(image1,cv2.COLOR_BGR2GRAY)\n",
    "blur = cv2.GaussianBlur(gray, (5,5),0)\n",
    "edges = cv2.Canny(blur, 50, 200)\n",
    " \n",
    "lines= cv2.HoughLines(edges, 1, np.pi/180.0,150 ,np.array([]))\n",
    "\n",
    "for line in lines:\n",
    "    rho, theta = line[0]\n",
    "    a = np.cos(theta)\n",
    "    b = np.sin(theta)\n",
    "    x0 = a*rho\n",
    "    y0 = b*rho\n",
    "    x1 = int(x0 + 1000*(-b))\n",
    "    y1 = int(y0 + 1000*(a))\n",
    "    x2 = int(x0 - 1000*(-b))\n",
    "    y2 = int(y0 - 1000*(a))\n",
    " \n",
    "    cv2.line(image1,(x1,y1),(x2,y2),(0,0,255),1)\n",
    " \n",
    " \n",
    "cv2.imshow('Lines Detected',image1)\n",
    "cv2.imshow(\"Canny Detection\", edges)\n",
    "cv2.waitKey(0)\n",
    "cv2.destroyAllWindows()\n",
    "\n",
    "cv2.imwrite('result.png', image1)"
   ]
  },
  {
   "cell_type": "code",
   "execution_count": null,
   "id": "b69a8ee9-358c-46a7-b8c5-86ed54e00dff",
   "metadata": {},
   "outputs": [],
   "source": []
  },
  {
   "cell_type": "code",
   "execution_count": null,
   "id": "d515f908-96ed-4d6a-aed1-7da900c9ca1b",
   "metadata": {},
   "outputs": [],
   "source": []
  }
 ],
 "metadata": {
  "kernelspec": {
   "display_name": "Python 3 (ipykernel)",
   "language": "python",
   "name": "python3"
  },
  "language_info": {
   "codemirror_mode": {
    "name": "ipython",
    "version": 3
   },
   "file_extension": ".py",
   "mimetype": "text/x-python",
   "name": "python",
   "nbconvert_exporter": "python",
   "pygments_lexer": "ipython3",
   "version": "3.11.7"
  }
 },
 "nbformat": 4,
 "nbformat_minor": 5
}
